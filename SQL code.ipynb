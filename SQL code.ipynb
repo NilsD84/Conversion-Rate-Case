{
    "cells": [
        {
            "cell_type": "code",
            "execution_count": 124,
            "metadata": {
                "azdata_cell_guid": "5c2e89ac-ac59-40f8-898b-932ff2ed5d03",
                "language": "sql"
            },
            "outputs": [
                {
                    "data": {
                        "text/html": [
                            "DROP TABLE"
                        ]
                    },
                    "metadata": {},
                    "output_type": "display_data"
                },
                {
                    "data": {
                        "text/html": [
                            "DROP TABLE"
                        ]
                    },
                    "metadata": {},
                    "output_type": "display_data"
                },
                {
                    "data": {
                        "text/html": [
                            "DROP TABLE"
                        ]
                    },
                    "metadata": {},
                    "output_type": "display_data"
                },
                {
                    "data": {
                        "text/html": [
                            "Total execution time: 00:00:00.170"
                        ]
                    },
                    "metadata": {},
                    "output_type": "display_data"
                }
            ],
            "source": [
                "DROP TABLE Conversion;\n",
                "DROP TABLE CustomerConversion;\n",
                "DROP TABLE ORDERJOIN;\n"
            ]
        },
        {
            "cell_type": "code",
            "execution_count": 110,
            "metadata": {
                "azdata_cell_guid": "7068d64d-9bcf-46bf-980a-aa3fb371390d",
                "language": "sql",
                "tags": []
            },
            "outputs": [
                {
                    "data": {
                        "text/html": [
                            "SELECT 805384"
                        ]
                    },
                    "metadata": {},
                    "output_type": "display_data"
                },
                {
                    "data": {
                        "text/html": [
                            "Total execution time: 00:00:02.688"
                        ]
                    },
                    "metadata": {},
                    "output_type": "display_data"
                }
            ],
            "source": [
                "--- Creating a temporary table to join select relevant columns from the events table\n",
                "CREATE TEMP TABLE Conversion AS \n",
                "    SELECT \n",
                "        internet_session_id,\n",
                "        customer_id,\n",
                "       article_ID,\n",
                "       device_category_desc,\n",
                "        MAX(CASE WHEN action_type_desc = 'purchase' THEN 1 ELSE 0 END) AS conversion,\n",
                "        SUM(CASE WHEN action_type_desc = 'product detail view' THEN 1 ELSE 0 END) AS pdview\n",
                "    FROM \n",
                "        events\n",
                "    GROUP BY \n",
                "        internet_session_id,\n",
                "        customer_id,\n",
                "        device_category_desc,\n",
                "       article_ID;"
            ]
        },
        {
            "cell_type": "code",
            "execution_count": 111,
            "metadata": {
                "azdata_cell_guid": "46d98b64-3b48-4412-b047-243b01280326",
                "language": "sql"
            },
            "outputs": [
                {
                    "data": {
                        "text/html": [
                            "SELECT 805384"
                        ]
                    },
                    "metadata": {},
                    "output_type": "display_data"
                },
                {
                    "data": {
                        "text/html": [
                            "Total execution time: 00:00:01.616"
                        ]
                    },
                    "metadata": {},
                    "output_type": "display_data"
                }
            ],
            "source": [
                "--- Creating a temporary table to join relevant columns from the customers table onto the previous created Conversion table\n",
                "CREATE TEMP TABLE CustomerConversion AS \n",
                "    SELECT\n",
                "        C.article_id,\n",
                "        C.internet_session_id, \n",
                "        C.customer_id, \n",
                "        C.conversion,\n",
                "        C.pdview,\n",
                "        C.device_category_desc, \n",
                "        cus.gender_code, \n",
                "        cus.geom_household_age,\n",
                "        cus.geom_household_income,\n",
                "        cus.geom_consumption_frequency,\n",
                "        cus.geom_clothing_budget\n",
                "    FROM \n",
                "        Conversion AS C\n",
                "    LEFT JOIN \n",
                "        customers AS cus \n",
                "    ON \n",
                "        C.customer_id = cus.customer_id\n"
            ]
        },
        {
            "cell_type": "code",
            "execution_count": 117,
            "metadata": {
                "azdata_cell_guid": "5fb194d1-0ecc-469a-835e-1be45bddd15b",
                "language": "sql"
            },
            "outputs": [
                {
                    "data": {
                        "text/html": [
                            "SELECT 805384"
                        ]
                    },
                    "metadata": {},
                    "output_type": "display_data"
                },
                {
                    "data": {
                        "text/html": [
                            "Total execution time: 00:00:01.780"
                        ]
                    },
                    "metadata": {},
                    "output_type": "display_data"
                }
            ],
            "source": [
                "--- Creating a temporary table to join relevant columns from the article table onto the previous created CustomerConversion table: THIS IS OUR FINAL TABLE THAT WE EXPORT!\n",
                "CREATE TEMP TABLE ORDERJOIN AS \n",
                "    SELECT\n",
                "        cc.internet_session_id,\n",
                "        cc.customer_id,\n",
                "        RIGHT(internet_session_id, 10) AS session_date,\n",
                "        cc.conversion,\n",
                "        cc.pdview,\n",
                "        cc.article_id,\n",
                "        art.brand_name,\n",
                "        art.class_2,\n",
                "        art.class_3,\n",
                "        art.live_year,\n",
                "        cc.device_category_desc,\n",
                "        cc.gender_code,\n",
                "        cc.geom_household_age,\n",
                "        cc.geom_household_income,\n",
                "        cc.geom_consumption_frequency,\n",
                "        cc.geom_clothing_budget\n",
                "    FROM \n",
                "        CustomerConversion AS cc\n",
                "    LEFT JOIN \n",
                "        article AS art\n",
                "    ON \n",
                "        cc.article_id = art.article_id\n",
                "\n",
                "       "
            ]
        },
        {
            "cell_type": "markdown",
            "metadata": {
                "azdata_cell_guid": "bc30cb8a-31ef-42dd-befc-df2c9d60e6c7"
            },
            "source": []
        },
        {
            "cell_type": "code",
            "execution_count": 121,
            "metadata": {
                "azdata_cell_guid": "04610b1d-2517-46a0-939b-e009dc7cdc1a",
                "language": "sql"
            },
            "outputs": [
                {
                    "data": {
                        "text/html": [
                            "(1 row(s) affected)"
                        ]
                    },
                    "metadata": {},
                    "output_type": "display_data"
                },
                {
                    "data": {
                        "text/html": [
                            "(1 row(s) affected)"
                        ]
                    },
                    "metadata": {},
                    "output_type": "display_data"
                },
                {
                    "data": {
                        "text/html": [
                            "(1 row(s) affected)"
                        ]
                    },
                    "metadata": {},
                    "output_type": "display_data"
                },
                {
                    "data": {
                        "text/html": [
                            "(1 row(s) affected)"
                        ]
                    },
                    "metadata": {},
                    "output_type": "display_data"
                },
                {
                    "data": {
                        "text/html": [
                            "(1 row(s) affected)"
                        ]
                    },
                    "metadata": {},
                    "output_type": "display_data"
                },
                {
                    "data": {
                        "text/html": [
                            "(1 row(s) affected)"
                        ]
                    },
                    "metadata": {},
                    "output_type": "display_data"
                },
                {
                    "data": {
                        "text/html": [
                            "Total execution time: 00:00:03.261"
                        ]
                    },
                    "metadata": {},
                    "output_type": "display_data"
                },
                {
                    "data": {
                        "application/vnd.dataresource+json": {
                            "data": [
                                {
                                    "conversion_2022": "9.51695406508985"
                                }
                            ],
                            "schema": {
                                "fields": [
                                    {
                                        "name": "conversion_2022"
                                    }
                                ]
                            }
                        },
                        "text/html": [
                            "<table><tr><th>conversion_2022</th></tr><tr><td>9.51695406508985</td></tr></table>"
                        ]
                    },
                    "execution_count": 121,
                    "metadata": {},
                    "output_type": "execute_result"
                },
                {
                    "data": {
                        "application/vnd.dataresource+json": {
                            "data": [
                                {
                                    "conversion_2021": "9.997800708261707"
                                }
                            ],
                            "schema": {
                                "fields": [
                                    {
                                        "name": "conversion_2021"
                                    }
                                ]
                            }
                        },
                        "text/html": [
                            "<table><tr><th>conversion_2021</th></tr><tr><td>9.997800708261707</td></tr></table>"
                        ]
                    },
                    "execution_count": 121,
                    "metadata": {},
                    "output_type": "execute_result"
                },
                {
                    "data": {
                        "application/vnd.dataresource+json": {
                            "data": [
                                {
                                    "conversion_overall": "9.716542621072536"
                                }
                            ],
                            "schema": {
                                "fields": [
                                    {
                                        "name": "conversion_overall"
                                    }
                                ]
                            }
                        },
                        "text/html": [
                            "<table><tr><th>conversion_overall</th></tr><tr><td>9.716542621072536</td></tr></table>"
                        ]
                    },
                    "execution_count": 121,
                    "metadata": {},
                    "output_type": "execute_result"
                },
                {
                    "data": {
                        "application/vnd.dataresource+json": {
                            "data": [
                                {
                                    "cr_perview_2021": "7.94410116714282550400"
                                }
                            ],
                            "schema": {
                                "fields": [
                                    {
                                        "name": "cr_perview_2021"
                                    }
                                ]
                            }
                        },
                        "text/html": [
                            "<table><tr><th>cr_perview_2021</th></tr><tr><td>7.94410116714282550400</td></tr></table>"
                        ]
                    },
                    "execution_count": 121,
                    "metadata": {},
                    "output_type": "execute_result"
                },
                {
                    "data": {
                        "application/vnd.dataresource+json": {
                            "data": [
                                {
                                    "cr_perview_2022": "7.24296718911930938000"
                                }
                            ],
                            "schema": {
                                "fields": [
                                    {
                                        "name": "cr_perview_2022"
                                    }
                                ]
                            }
                        },
                        "text/html": [
                            "<table><tr><th>cr_perview_2022</th></tr><tr><td>7.24296718911930938000</td></tr></table>"
                        ]
                    },
                    "execution_count": 121,
                    "metadata": {},
                    "output_type": "execute_result"
                },
                {
                    "data": {
                        "application/vnd.dataresource+json": {
                            "data": [
                                {
                                    "cr_perview_overall": "7.52561041558256042900"
                                }
                            ],
                            "schema": {
                                "fields": [
                                    {
                                        "name": "cr_perview_overall"
                                    }
                                ]
                            }
                        },
                        "text/html": [
                            "<table><tr><th>cr_perview_overall</th></tr><tr><td>7.52561041558256042900</td></tr></table>"
                        ]
                    },
                    "execution_count": 121,
                    "metadata": {},
                    "output_type": "execute_result"
                }
            ],
            "source": [
                "--- Performing disaster checks for the final table\n",
                "\n",
                "-- Calculating the conversion rate for 2022 based on unique session_id\n",
                "select ((select cast(count(distinct(internet_session_id))as FLOAT)\n",
                "from ORDERJOIN\n",
                "where conversion = 1 AND session_date LIKE '2022%') / cast(count(distinct(internet_session_id))as FLOAT)) * 100 as conversion_2022\n",
                "from ORDERJOIN\n",
                "where session_date LIKE '2022%';\n",
                "\n",
                "-- Calculating the conversion rate for 2021 based on unique session_id\n",
                "select ((select cast(count(distinct(internet_session_id))as FLOAT)\n",
                "from ORDERJOIN\n",
                "where conversion = 1 AND session_date LIKE '2021%') / cast(count(distinct(internet_session_id))as FLOAT)) * 100 as conversion_2021\n",
                "from ORDERJOIN\n",
                "where session_date LIKE '2021%';\n",
                "\n",
                "-- Calculating the total conversion rate based on unique session_id\n",
                "select ((select cast(count(distinct(internet_session_id))as FLOAT)\n",
                "from ORDERJOIN\n",
                "where conversion = 1) / cast(count(distinct(internet_session_id))as FLOAT)) * 100 as conversion_overall\n",
                "from ORDERJOIN;\n",
                "\n",
                "-- Calculating the conversion rate for 2021 based on views\n",
                "select (sum(conversion)/sum(pdview))*100 as cr_perview_2021 from ORDERJOIN\n",
                "where session_date LIKE '2021%';\n",
                "\n",
                "-- Calculating the conversion rate for 2022 based on views\n",
                "select (sum(conversion)/sum(pdview))*100 as cr_perview_2022 from ORDERJOIN\n",
                "where session_date LIKE '2022%';\n",
                "\n",
                "-- Calculating the total conversion rate based on views\n",
                "select (sum(conversion)/sum(pdview))*100 as cr_perview_overall from ORDERJOIN;"
            ]
        },
        {
            "cell_type": "code",
            "execution_count": 122,
            "metadata": {
                "azdata_cell_guid": "b46eaba5-8d81-4bdf-9b55-c6a0b105f273",
                "language": "sql",
                "tags": []
            },
            "outputs": [
                {
                    "data": {
                        "text/html": [
                            "(2 row(s) affected)"
                        ]
                    },
                    "metadata": {},
                    "output_type": "display_data"
                },
                {
                    "data": {
                        "text/html": [
                            "Total execution time: 00:00:00.419"
                        ]
                    },
                    "metadata": {},
                    "output_type": "display_data"
                },
                {
                    "data": {
                        "application/vnd.dataresource+json": {
                            "data": [
                                {
                                    "purchase": "No",
                                    "total": "746379",
                                    "view0": "48317",
                                    "view1": "658042",
                                    "view2": "34119",
                                    "view3": "4688",
                                    "view4": "926",
                                    "viewmore": "287"
                                },
                                {
                                    "purchase": "Yes",
                                    "total": "59005",
                                    "view0": "20688",
                                    "view1": "38226",
                                    "view2": "64",
                                    "view3": "22",
                                    "view4": "4",
                                    "viewmore": "1"
                                }
                            ],
                            "schema": {
                                "fields": [
                                    {
                                        "name": "purchase"
                                    },
                                    {
                                        "name": "view0"
                                    },
                                    {
                                        "name": "view1"
                                    },
                                    {
                                        "name": "view2"
                                    },
                                    {
                                        "name": "view3"
                                    },
                                    {
                                        "name": "view4"
                                    },
                                    {
                                        "name": "viewmore"
                                    },
                                    {
                                        "name": "total"
                                    }
                                ]
                            }
                        },
                        "text/html": [
                            "<table><tr><th>purchase</th><th>view0</th><th>view1</th><th>view2</th><th>view3</th><th>view4</th><th>viewmore</th><th>total</th></tr><tr><td>No</td><td>48317</td><td>658042</td><td>34119</td><td>4688</td><td>926</td><td>287</td><td>746379</td></tr><tr><td>Yes</td><td>20688</td><td>38226</td><td>64</td><td>22</td><td>4</td><td>1</td><td>59005</td></tr></table>"
                        ]
                    },
                    "execution_count": 122,
                    "metadata": {},
                    "output_type": "execute_result"
                }
            ],
            "source": [
                "--- Providing an overview of the amount of product detail views by purchase status (conversion) based on ORDERJOIN. To show the distribution of views based on whether a purchase was made or not\n",
                "SELECT \n",
                "    CASE WHEN conversion = 1 THEN 'Yes' ELSE 'No' END AS purchase,\n",
                "    COUNT(CASE WHEN pdview = 0 THEN 1 END) AS view0,\n",
                "    COUNT(CASE WHEN pdview = 1 THEN 1 END) AS view1,\n",
                "    COUNT(CASE WHEN pdview = 2 THEN 1 END) AS view2,\n",
                "    COUNT(CASE WHEN pdview = 3 THEN 1 END) AS view3,\n",
                "    COUNT(CASE WHEN pdview = 4 THEN 1 END) AS view4,\n",
                "    COUNT(CASE WHEN pdview > 4 THEN 1 END) AS viewmore,\n",
                "    COUNT(*) AS Total\n",
                "\n",
                "FROM \n",
                "    ORDERJOIN\n",
                "GROUP BY \n",
                "    purchase;"
            ]
        }
    ],
    "metadata": {
        "kernelspec": {
            "display_name": "SQL",
            "language": "sql",
            "name": "SQL"
        },
        "language_info": {
            "name": "sql",
            "version": ""
        }
    },
    "nbformat": 4,
    "nbformat_minor": 2
}
